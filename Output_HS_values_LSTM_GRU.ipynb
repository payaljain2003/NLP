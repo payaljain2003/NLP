{
  "nbformat": 4,
  "nbformat_minor": 0,
  "metadata": {
    "colab": {
      "provenance": [],
      "authorship_tag": "ABX9TyM6wscllvPOlOJvpvWdxqB6",
      "include_colab_link": true
    },
    "kernelspec": {
      "name": "python3",
      "display_name": "Python 3"
    },
    "language_info": {
      "name": "python"
    }
  },
  "cells": [
    {
      "cell_type": "markdown",
      "metadata": {
        "id": "view-in-github",
        "colab_type": "text"
      },
      "source": [
        "<a href=\"https://colab.research.google.com/github/payaljain2003/NLP/blob/main/Output_HS_values_LSTM_GRU.ipynb\" target=\"_parent\"><img src=\"https://colab.research.google.com/assets/colab-badge.svg\" alt=\"Open In Colab\"/></a>"
      ]
    },
    {
      "cell_type": "markdown",
      "source": [
        "\n",
        "code to check output and hidden state values are same in a LSTM\n"
      ],
      "metadata": {
        "id": "MkOkGl_5oqKd"
      }
    },
    {
      "cell_type": "code",
      "execution_count": 1,
      "metadata": {
        "colab": {
          "base_uri": "https://localhost:8080/"
        },
        "id": "psBYy-eRZBL4",
        "outputId": "0269d5d5-c4e2-4903-a3e1-523215d8a705"
      },
      "outputs": [
        {
          "output_type": "stream",
          "name": "stdout",
          "text": [
            "1/1 [==============================] - 1s 1s/step\n",
            "Output (y) shape: (1, 1, 5)\n",
            "Hidden state (h) shape: (1, 5)\n",
            "Output (y): [[[ 0.0261872   0.12302117  0.02824509 -0.00624926  0.00799813]]]\n",
            "Hidden state (h): [[ 0.0261872   0.12302117  0.02824509 -0.00624926  0.00799813]]\n"
          ]
        }
      ],
      "source": [
        "import numpy as np\n",
        "from keras.layers import LSTM, Input\n",
        "from keras.models import Model\n",
        "\n",
        "# Define the LSTM cell with return_sequences=True and return_state=True\n",
        "# This way, it will return both the output (y) and the hidden state (h)\n",
        "lstm_units = 5\n",
        "input_dim = 3  # Dimensionality of the input\n",
        "inputs = Input(shape=(None, input_dim))  # None indicates variable sequence length\n",
        "lstm_layer = LSTM(lstm_units, return_sequences=True, return_state=True)\n",
        "y, h, c = lstm_layer(inputs)\n",
        "\n",
        "# Create the model\n",
        "model = Model(inputs=inputs, outputs=[y, h])\n",
        "\n",
        "# Initialize input data for a single time step\n",
        "input_data = np.random.rand(1, 1, input_dim)  # Batch size of 1, sequence length of 1\n",
        "\n",
        "# Run the LSTM cell for one time step\n",
        "output_data, hidden_state_data = model.predict(input_data)\n",
        "\n",
        "print(\"Output (y) shape:\", output_data.shape)  # Output (y) shape should be (1, 1, lstm_units)\n",
        "print(\"Hidden state (h) shape:\", hidden_state_data.shape)  # Hidden state (h) shape should be (1, lstm_units)\n",
        "\n",
        "# Print the output (y) and the hidden state (h) to compare their values\n",
        "print(\"Output (y):\", output_data)\n",
        "print(\"Hidden state (h):\", hidden_state_data)\n"
      ]
    },
    {
      "cell_type": "code",
      "source": [],
      "metadata": {
        "id": "_jk5i3dToymJ"
      },
      "execution_count": null,
      "outputs": []
    },
    {
      "cell_type": "code",
      "source": [],
      "metadata": {
        "id": "SkPXpMLhoyvk"
      },
      "execution_count": null,
      "outputs": []
    },
    {
      "cell_type": "code",
      "source": [
        "from __future__ import print_function, division\n",
        "from builtins import range, input"
      ],
      "metadata": {
        "id": "qPX88efNoyy0"
      },
      "execution_count": 2,
      "outputs": []
    },
    {
      "cell_type": "code",
      "source": [
        "from keras.models import Model\n",
        "from keras.layers import Input, LSTM, GRU\n",
        "import numpy as np\n",
        "import matplotlib.pyplot as plt"
      ],
      "metadata": {
        "id": "rrgkmXg_pJMG"
      },
      "execution_count": 3,
      "outputs": []
    },
    {
      "cell_type": "code",
      "source": [
        "try:\n",
        "  import keras.backend as K\n",
        "  if len(K.tensorflow_backend._get_available_gpus()) > 0:\n",
        "    from keras.layers import CuDNNLSTM as LSTM\n",
        "    from keras.layers import CuDNNGRU as GRU\n",
        "except:\n",
        "  pass"
      ],
      "metadata": {
        "id": "W2JPeIO5pQ1I"
      },
      "execution_count": 4,
      "outputs": []
    },
    {
      "cell_type": "code",
      "source": [
        "T = 8\n",
        "D = 2\n",
        "M = 3\n"
      ],
      "metadata": {
        "id": "9q0AWOlppgkH"
      },
      "execution_count": 5,
      "outputs": []
    },
    {
      "cell_type": "code",
      "source": [
        "X = np.random.randn(1, T, D)"
      ],
      "metadata": {
        "id": "LAweCpgjphkC"
      },
      "execution_count": 6,
      "outputs": []
    },
    {
      "cell_type": "code",
      "source": [
        "def lstm1():\n",
        "  input_ = Input(shape=(T, D))\n",
        "  rnn = LSTM(M, return_state=True)\n",
        "  x = rnn(input_)\n",
        "\n",
        "  model = Model(inputs=input_, outputs=x)\n",
        "  o, h, c = model.predict(X)\n",
        "  print(\"o:\", o)\n",
        "  print(\"h:\", h)\n",
        "  print(\"c:\", c)\n",
        "\n",
        "def lstm2():\n",
        "  input_ = Input(shape=(T, D))\n",
        "  rnn = LSTM(M, return_state=True, return_sequences = True)\n",
        "  x = rnn(input_)\n",
        "\n",
        "  model = Model(inputs=input_, outputs=x)\n",
        "  o, h, c = model.predict(X)\n",
        "  print(\"o:\", o)\n",
        "  print(\"h:\", h)\n",
        "  print(\"c:\", c)\n",
        "\n",
        "def gru1():\n",
        "  input_ = Input(shape=(T, D))\n",
        "  rnn = GRU(M, return_state=True)\n",
        "  x = rnn(input_)\n",
        "\n",
        "  model = Model(inputs=input_, outputs=x)\n",
        "  o, h = model.predict(X)\n",
        "  print(\"o:\", o)\n",
        "  print(\"h:\", h)\n",
        "\n",
        "def gru2():\n",
        "  input_ = Input(shape=(T, D))\n",
        "  rnn = GRU(M, return_state=True, return_sequences = True)\n",
        "  x = rnn(input_)\n",
        "\n",
        "  model = Model(inputs=input_, outputs=x)\n",
        "  o, h = model.predict(X)\n",
        "  print(\"o:\", o)\n",
        "  print(\"h:\", h)\n",
        "\n",
        "\n",
        "print(\"lstm1:\")\n",
        "lstm1()\n",
        "print(\"lstm2:\")\n",
        "lstm2()\n",
        "print(\"gru1:\")\n",
        "gru1()\n",
        "print(\"gru2:\")\n",
        "gru2()\n"
      ],
      "metadata": {
        "colab": {
          "base_uri": "https://localhost:8080/"
        },
        "id": "J-Xv7bjsqUyp",
        "outputId": "323b1da9-9dd4-432e-a35d-ab83cfeba5dc"
      },
      "execution_count": 8,
      "outputs": [
        {
          "output_type": "stream",
          "name": "stdout",
          "text": [
            "lstm1:\n"
          ]
        },
        {
          "output_type": "stream",
          "name": "stderr",
          "text": [
            "WARNING:tensorflow:5 out of the last 5 calls to <function Model.make_predict_function.<locals>.predict_function at 0x78d0eac0caf0> triggered tf.function retracing. Tracing is expensive and the excessive number of tracings could be due to (1) creating @tf.function repeatedly in a loop, (2) passing tensors with different shapes, (3) passing Python objects instead of tensors. For (1), please define your @tf.function outside of the loop. For (2), @tf.function has reduce_retracing=True option that can avoid unnecessary retracing. For (3), please refer to https://www.tensorflow.org/guide/function#controlling_retracing and https://www.tensorflow.org/api_docs/python/tf/function for  more details.\n"
          ]
        },
        {
          "output_type": "stream",
          "name": "stdout",
          "text": [
            "1/1 [==============================] - 1s 715ms/step\n",
            "o: [[ 0.17795984  0.21558331 -0.27621305]]\n",
            "h: [[ 0.17795984  0.21558331 -0.27621305]]\n",
            "c: [[ 0.27628297  0.43326348 -0.5704122 ]]\n",
            "lstm2:\n"
          ]
        },
        {
          "output_type": "stream",
          "name": "stderr",
          "text": [
            "WARNING:tensorflow:6 out of the last 6 calls to <function Model.make_predict_function.<locals>.predict_function at 0x78d0eac0e170> triggered tf.function retracing. Tracing is expensive and the excessive number of tracings could be due to (1) creating @tf.function repeatedly in a loop, (2) passing tensors with different shapes, (3) passing Python objects instead of tensors. For (1), please define your @tf.function outside of the loop. For (2), @tf.function has reduce_retracing=True option that can avoid unnecessary retracing. For (3), please refer to https://www.tensorflow.org/guide/function#controlling_retracing and https://www.tensorflow.org/api_docs/python/tf/function for  more details.\n"
          ]
        },
        {
          "output_type": "stream",
          "name": "stdout",
          "text": [
            "1/1 [==============================] - 0s 451ms/step\n",
            "o: [[[ 0.08229339 -0.02741942  0.05275549]\n",
            "  [ 0.10619942 -0.06647743  0.08746725]\n",
            "  [ 0.07386883 -0.01293178 -0.00468102]\n",
            "  [-0.15305232  0.16848214 -0.1049858 ]\n",
            "  [-0.1150966   0.11102268 -0.11575219]\n",
            "  [ 0.00526281  0.12870704 -0.13853502]\n",
            "  [-0.08156968  0.16344193 -0.1419556 ]\n",
            "  [-0.07196441  0.10830326 -0.10746338]]]\n",
            "h: [[-0.07196441  0.10830326 -0.10746338]]\n",
            "c: [[-0.13029683  0.40801644 -0.543639  ]]\n",
            "gru1:\n",
            "1/1 [==============================] - 0s 421ms/step\n",
            "o: [[ 0.2424083  -0.30335814  0.35967353]]\n",
            "h: [[ 0.2424083  -0.30335814  0.35967353]]\n",
            "gru2:\n",
            "1/1 [==============================] - 0s 385ms/step\n",
            "o: [[[-0.08307579 -0.03189086 -0.12740374]\n",
            "  [-0.03166153  0.10437801 -0.13943118]\n",
            "  [-0.24341986 -0.30241272 -0.23506108]\n",
            "  [ 0.29289958 -0.38964283  0.57288873]\n",
            "  [-0.2065455  -0.5593924   0.29013035]\n",
            "  [-0.17194659  0.04164326  0.03069071]\n",
            "  [ 0.00334617 -0.08063549  0.1799569 ]\n",
            "  [-0.22318101 -0.35634467  0.04321803]]]\n",
            "h: [[-0.22318101 -0.35634467  0.04321803]]\n"
          ]
        }
      ]
    }
  ]
}